{
 "cells": [
  {
   "cell_type": "markdown",
   "metadata": {},
   "source": [
    "# Exercise 1"
   ]
  },
  {
   "cell_type": "code",
   "execution_count": null,
   "metadata": {},
   "outputs": [],
   "source": [
    "#using Pkg\n",
    "#Pkg.add(\"StatsBase\");"
   ]
  },
  {
   "cell_type": "markdown",
   "metadata": {},
   "source": [
    "## 1. Generating exponentially distributed random variables\n",
    "\n",
    "Let us simulate $10^5$ realizations of a random variable $X$ that follows an Exponential distribution of parameter $\\lambda = 10$. "
   ]
  },
  {
   "cell_type": "markdown",
   "metadata": {},
   "source": [
    "- with the uniform distribution"
   ]
  },
  {
   "cell_type": "code",
   "execution_count": null,
   "metadata": {},
   "outputs": [],
   "source": [
    "λ = 10\n",
    "g = y -> ####                   # write what your function should return here\n",
    "u = rand(Integer(####))         # draw 10^5 realizations from a uniform distribution with rand()\n",
    "g_eval = g.(u);                 # evaluate your function g at those realizations"
   ]
  },
  {
   "cell_type": "code",
   "execution_count": null,
   "metadata": {},
   "outputs": [],
   "source": [
    "using Plots\n",
    "histogram(g_eval, normalize = true, xlim = (0, 1), label = \"from Uniform\")"
   ]
  },
  {
   "cell_type": "markdown",
   "metadata": {},
   "source": [
    "- with the exponential distribution\n",
    "\n",
    "[1]https://github.com/JuliaStats/Distributions.jl/tree/ebeab79ff28f144506f6aa51b284b67486283ba0/src/univariate/continuous\n",
    "[2]https://github.com/JuliaLang/julia/blob/master/stdlib/Random/src/normal.jl"
   ]
  },
  {
   "cell_type": "code",
   "execution_count": null,
   "metadata": {},
   "outputs": [],
   "source": [
    "using Distributions\n",
    "pdf_evaluation = x -> pdf.(Exponential(1/λ), x) # write what your function should return here\n",
    "plot!(0:0.01:2.0, pdf_evaluation, \n",
    "    linewidth = 3.0, \n",
    "    label = \"from Exponential\")"
   ]
  },
  {
   "cell_type": "markdown",
   "metadata": {},
   "source": [
    "## 2. Gillespie algorithm (naive implementation)"
   ]
  },
  {
   "cell_type": "code",
   "execution_count": null,
   "metadata": {},
   "outputs": [],
   "source": [
    "κ = ####        # rate constant\n",
    "x₀ = ####        # initial count of molecules\n",
    "Δt = 0.001;    "
   ]
  },
  {
   "cell_type": "code",
   "execution_count": null,
   "metadata": {},
   "outputs": [],
   "source": [
    "gillespie_alg_naive = function(x₀, κ, Δt, stoptime)\n",
    "   \n",
    "\n",
    "    tt = zeros(Integer(round(stoptime/Δt))+1)\n",
    "    xx = Integer.(zeros(length(tt)))\n",
    "   \n",
    "    t = 0\n",
    "    k = 0\n",
    "    \n",
    "    xx[1] = ####                      # initial count\n",
    "    tt[1] = ####                      # initial time\n",
    "    \n",
    "    k = 1\n",
    "    while (t < stoptime)\n",
    "        x = xx[k]\n",
    "        \n",
    "        ####                          # steps 1 - 3\n",
    "\n",
    "        t = k*Δt\n",
    "        tt[k+1] = t\n",
    "        k = k + 1 \n",
    "    end\n",
    "    \n",
    "    return tt, xx\n",
    "end;"
   ]
  },
  {
   "cell_type": "code",
   "execution_count": null,
   "metadata": {},
   "outputs": [],
   "source": [
    "tt, xx = gillespie_alg_naive(x₀, κ, Δt, 30);"
   ]
  },
  {
   "cell_type": "code",
   "execution_count": null,
   "metadata": {},
   "outputs": [],
   "source": [
    "plot(tt, xx, linetype=:steppre, xlabel = \"time (sec)\", ylabel = \"# molecules of A\", legend=false)"
   ]
  },
  {
   "cell_type": "markdown",
   "metadata": {},
   "source": [
    "## 3. Gillespie algorithm"
   ]
  },
  {
   "cell_type": "markdown",
   "metadata": {},
   "source": [
    "### Preliminary steps"
   ]
  },
  {
   "cell_type": "markdown",
   "metadata": {},
   "source": [
    "Let us consider the reactions\n",
    "\n",
    "$A \\xrightarrow{\\kappa_1} \\emptyset$\n",
    "\n",
    "$\\emptyset \\xrightarrow{\\kappa_2}A $\n",
    "\n",
    "\\begin{align}\n",
    "(\\text{Reactants})\\,\\overline{S} = \\begin{bmatrix}\n",
    "n_{A,\\,r_1}^{(\\text{reac})}\\\\\n",
    "n_{A,\\,r_2}^{(\\text{reac})}\\\\\n",
    "\\end{bmatrix}_{\\text{#reactions }\\times \\text{ #species}} &= \\begin{bmatrix}\n",
    "1\\\\\n",
    "0\\\\\n",
    "\\end{bmatrix}\\\\\n",
    "\\hspace{2cm}\n",
    "(\\text{Products})\\,\\underline{S} = \\begin{bmatrix}\n",
    "n_{A,\\,r_1}^{(\\text{prod})}\\\\\n",
    "n_{A,\\,r_2}^{(\\text{prod})}\\\\\n",
    "\\end{bmatrix}_{\\text{#reactions }\\times \\text{ #species}} &= \\begin{bmatrix}\n",
    "0\\\\\n",
    "1\\\\\n",
    "\\end{bmatrix}\n",
    "\\end{align}\n",
    "\n",
    "\\begin{align}\n",
    "(\\text{Stoichiometric Matrix})\\, S = (\\underline{S} -\\overline{S})^\\top = \\begin{bmatrix}\n",
    "-1 & 1\n",
    "\\end{bmatrix}\n",
    "\\end{align}\n",
    "\n"
   ]
  },
  {
   "cell_type": "code",
   "execution_count": null,
   "metadata": {},
   "outputs": [],
   "source": [
    "# Number of reactions\n",
    "Nᵣ = 2\n",
    "\n",
    "# Compute the stoichiometric matrix \n",
    "Products = [0; 1]\n",
    "Reactants = [1; 0]\n",
    "SM = (Products - Reactants)'"
   ]
  },
  {
   "cell_type": "markdown",
   "metadata": {},
   "source": [
    "(step 1) Compute the propensity function $\\nu_{n_r}(t)$ for each of the $N_r$ reactions. Then compute the total propensity  $\\alpha(t)$."
   ]
  },
  {
   "cell_type": "code",
   "execution_count": null,
   "metadata": {},
   "outputs": [],
   "source": [
    "# Compute the propensity function for each of the reactions\n",
    "\n",
    "V = 0.001                                       # Volume \n",
    "ν₁ =  function(κ₁, x) return #### end            # Propensity function for degradation\n",
    "ν₂ = function(κ₂, x) return #### end             # Propensity function for production"
   ]
  },
  {
   "cell_type": "code",
   "execution_count": null,
   "metadata": {},
   "outputs": [],
   "source": [
    "# Compute the total propensity\n",
    "propensities = function(k, x, ν, Nᵣ)\n",
    "    ν_eval = zeros(Nᵣ)\n",
    "    for r in 1:Nᵣ\n",
    "        ν_eval[r] = ν[r](k[r], x) \n",
    "    end\n",
    "    return ν_eval\n",
    "end"
   ]
  },
  {
   "cell_type": "code",
   "execution_count": null,
   "metadata": {},
   "outputs": [],
   "source": [
    "# Example : \n",
    "k = [0.1, 1000]\n",
    "x = zeros(1)\n",
    "ν = [ν₁, ν₂]\n",
    "\n",
    "ν_eval = ####                                  # Evaluate propensity functions \n",
    "α = sum(ν_eval)"
   ]
  },
  {
   "cell_type": "markdown",
   "metadata": {},
   "source": [
    "(step 2) Compute the time when the first chemical reaction takes place as $\\tau$, where $\\tau$ is sampled from an exponential distribution with parameter $\\alpha(t)$"
   ]
  },
  {
   "cell_type": "code",
   "execution_count": null,
   "metadata": {},
   "outputs": [],
   "source": [
    "τ = ####                                       "
   ]
  },
  {
   "cell_type": "markdown",
   "metadata": {},
   "source": [
    "(step 3) Find out which reaction occurs at time $\\tau$"
   ]
  },
  {
   "cell_type": "code",
   "execution_count": null,
   "metadata": {},
   "outputs": [],
   "source": [
    "using StatsBase\n",
    "index_j = StatsBase.sample(1:2, Weights(ν_eval./α));\n",
    "println(\"Reaction n.\" .* string(index_j) .* \" takes place!\")"
   ]
  },
  {
   "cell_type": "code",
   "execution_count": null,
   "metadata": {},
   "outputs": [],
   "source": [
    "println(\"Update number of molecules A with the stoichiometric vector: \" .* string(SM[:, index_j]))"
   ]
  },
  {
   "cell_type": "markdown",
   "metadata": {},
   "source": [
    "### Gillespie algorithm (main algorithm)"
   ]
  },
  {
   "cell_type": "markdown",
   "metadata": {},
   "source": [
    "Combine all these steps in a loop."
   ]
  },
  {
   "cell_type": "code",
   "execution_count": null,
   "metadata": {},
   "outputs": [],
   "source": [
    "gillespie_alg = function(SM, κ, ν, x₀, stoptime)\n",
    "    t = 0.0\n",
    "    x = x₀\n",
    "    \n",
    "    Nₛ, Nᵣ = size(SM)\n",
    "    \n",
    "    tt = [t]\n",
    "    xx = copy(x)     \n",
    "    \n",
    "    while (t <= stoptime)\n",
    "        \n",
    "        # step 1\n",
    "        ν_eval = ####             \n",
    "        α = #### \n",
    "\n",
    "        # step 2\n",
    "        τ = ####                                   \n",
    "        t += τ\n",
    "\n",
    "        # step 3\n",
    "        index_j = StatsBase.sample(1:Nᵣ, Weights(ν_eval./α))\n",
    "        \n",
    "        x = x + ####\n",
    "        append!(tt, t)\n",
    "        xx = cat(xx, x, dims=2)\n",
    "    end\n",
    "    \n",
    "    return tt, xx'\n",
    "end"
   ]
  },
  {
   "cell_type": "markdown",
   "metadata": {},
   "source": [
    "### (a) Stochastic simulation of degradation"
   ]
  },
  {
   "cell_type": "code",
   "execution_count": null,
   "metadata": {},
   "outputs": [],
   "source": [
    "# Number of reactions Nᵣ = 1\n",
    "# Compute the stoichiometric matrix \n",
    "Products = ####\n",
    "Reactants = ####\n",
    "SM = (Products-Reactants)'"
   ]
  },
  {
   "cell_type": "code",
   "execution_count": null,
   "metadata": {},
   "outputs": [],
   "source": [
    "# Compute the propensity function for each of the reactions\n",
    "V = 0.001\n",
    "ν₁ =  function(κ₁, x) return #### end"
   ]
  },
  {
   "cell_type": "markdown",
   "metadata": {},
   "source": [
    "1 realization"
   ]
  },
  {
   "cell_type": "code",
   "execution_count": null,
   "metadata": {},
   "outputs": [],
   "source": [
    "tt, xx = gillespie_alg(SM, [0.1], [ν₁], [20], 100.0)\n",
    "plot(tt[1:end-1], xx[1:end-1], linetype=:steppre, xlabel=\"time (sec)\", ylabel =\"# molecules of A\")"
   ]
  },
  {
   "cell_type": "markdown",
   "metadata": {},
   "source": [
    "10 realizations"
   ]
  },
  {
   "cell_type": "code",
   "execution_count": null,
   "metadata": {},
   "outputs": [],
   "source": [
    "Nₛ = 20\n",
    "p = plot(legend = false, xlabel = \"time (sec)\", ylabel = \"# molecules of A\")\n",
    "for nₛ in 1:Nₛ    \n",
    "    tt, xx = #### \n",
    "    plot!(tt[1:end-1], xx[1:end-1], linetype=:steppre)\n",
    "end\n",
    "p"
   ]
  },
  {
   "cell_type": "markdown",
   "metadata": {},
   "source": [
    "### (b) stochastic simulation of production and degradation"
   ]
  },
  {
   "cell_type": "code",
   "execution_count": null,
   "metadata": {},
   "outputs": [],
   "source": [
    "# Number of reactions Nᵣ = 2\n",
    "# Compute the stoichiometric matrix \n",
    "Products = ####\n",
    "Reactants = #### \n",
    "SM = (Products-Reactants)'"
   ]
  },
  {
   "cell_type": "code",
   "execution_count": null,
   "metadata": {},
   "outputs": [],
   "source": [
    "# Compute the propensity function for each of the reactions\n",
    "V = 0.001\n",
    "ν₁ =  function(κ₁, x) return #### end\n",
    "ν₂ = function(κ₂, x) return #### end "
   ]
  },
  {
   "cell_type": "markdown",
   "metadata": {},
   "source": [
    "1 realization"
   ]
  },
  {
   "cell_type": "code",
   "execution_count": null,
   "metadata": {},
   "outputs": [],
   "source": [
    "κ₁ = 0.1\n",
    "κ₂ = 1000.0\n",
    "\n",
    "tt, xx = ####\n",
    "plot(tt, xx, linetype=:steppre, label = \"1 realization of Production + Degradation\", legend=:bottomright)"
   ]
  },
  {
   "cell_type": "markdown",
   "metadata": {},
   "source": [
    "10 realizations"
   ]
  },
  {
   "cell_type": "code",
   "execution_count": null,
   "metadata": {},
   "outputs": [],
   "source": [
    "Nₛ = 10\n",
    "p = plot(legend=false, xlabel=\"time (sec)\", ylabel =\"# molecules of A\")\n",
    "for nₛ in 1:Nₛ    \n",
    "    tt, xx = ####\n",
    "    plot!(tt[1:end-1], xx[1:end-1], linetype=:steppre)\n",
    "end\n",
    "p"
   ]
  },
  {
   "cell_type": "markdown",
   "metadata": {},
   "source": [
    "Evolution of the stochastic mean $M(t)$"
   ]
  },
  {
   "cell_type": "code",
   "execution_count": null,
   "metadata": {},
   "outputs": [],
   "source": [
    "M = t -> ####\n",
    "plot!(tt[1:end-1], M, linestyle = :dash, colour = :black, linewidth = 3)"
   ]
  },
  {
   "cell_type": "markdown",
   "metadata": {},
   "source": [
    "### (c) Steady-state version of the chemical master equation"
   ]
  },
  {
   "cell_type": "markdown",
   "metadata": {},
   "source": [
    "Number of molecules at $t=100$sec, from $10^6$ realizations"
   ]
  },
  {
   "cell_type": "code",
   "execution_count": null,
   "metadata": {},
   "outputs": [],
   "source": [
    "N = ####    #number of realisations\n",
    "n_upperbound = 24\n",
    "p = zeros(n_upperbound+1)   #vector of probabilities\n",
    "\n",
    "\n",
    "for n in 1:N   \n",
    "    tt, xx = ####\n",
    "    A = xx[end]    \n",
    "    if (A < n_upperbound-0.5) \n",
    "        p[xx[end]+1] += 1\n",
    "    end\n",
    "end\n",
    "\n",
    "p /= N;"
   ]
  },
  {
   "cell_type": "code",
   "execution_count": null,
   "metadata": {},
   "outputs": [],
   "source": [
    "bar(collect(0:24), p, \n",
    "    colour = :lightgrey,\n",
    "    label = \"Gillespie SSA\",\n",
    "    xlabel = \"number of molecules\",\n",
    "    ylabel = \"stationary distribution\")"
   ]
  },
  {
   "cell_type": "code",
   "execution_count": null,
   "metadata": {},
   "outputs": [],
   "source": [
    "compute_ϕ = function(n_upperbound, κ₁, κ₂)\n",
    "    \n",
    "    ϕ = zeros(n_upperbound+1)\n",
    "\n",
    "    ϕ[1] =  1.0\n",
    "    ϕ[2] = ####\n",
    "\n",
    "    for n in 1:n_upperbound-1\n",
    "       ϕ[n+2] = #### \n",
    "    end\n",
    "    return ϕ./(sum(ϕ))\n",
    "end"
   ]
  },
  {
   "cell_type": "code",
   "execution_count": null,
   "metadata": {},
   "outputs": [],
   "source": [
    "ϕ = compute_ϕ(n_upperbound, 0.1, 1.0);"
   ]
  },
  {
   "cell_type": "code",
   "execution_count": null,
   "metadata": {},
   "outputs": [],
   "source": [
    "plot!(collect(0:n_upperbound), ϕ,\n",
    "    linewidth = 3,\n",
    "    colour = :red,\n",
    "    label = \"master equation\")"
   ]
  },
  {
   "cell_type": "markdown",
   "metadata": {},
   "source": [
    "# Homework"
   ]
  },
  {
   "cell_type": "markdown",
   "metadata": {},
   "source": [
    "## Problem 3"
   ]
  },
  {
   "cell_type": "markdown",
   "metadata": {},
   "source": [
    "State variable\n",
    "\n",
    "$X(t) = (N_G(t),N_M(t),N_P(t))$\n",
    "\n",
    "Reactions\n",
    "\n",
    "$\\emptyset \\xrightarrow{\\kappa_1}M$\n",
    "\n",
    "$M \\xrightarrow{\\kappa_2}M+P $\n",
    "\n",
    "$M \\xrightarrow{d_M}\\emptyset $\n",
    "\n",
    "$P \\xrightarrow{d_P}\\emptyset $\n",
    "\n"
   ]
  },
  {
   "cell_type": "code",
   "execution_count": null,
   "metadata": {},
   "outputs": [],
   "source": [
    "# Number of reactions\n",
    "Nᵣ = ####\n",
    "\n",
    "# Compute the stoichiometric matrix \n",
    "Products = ####\n",
    "Reactants = ####\n",
    "SM = (Products-Reactants)'"
   ]
  },
  {
   "cell_type": "markdown",
   "metadata": {},
   "source": [
    "Compute the propensity function for each of the reactions"
   ]
  },
  {
   "cell_type": "code",
   "execution_count": null,
   "metadata": {},
   "outputs": [],
   "source": [
    "V = 1\n",
    "ν₁ = function(κ₁, x) return #### end\n",
    "ν₂ = function(κ₂, x) return #### end \n",
    "ν₃ = function(κ₃, x) return #### end \n",
    "ν₄ = function(κ₄, x) return #### end \n",
    "ν = [ν₁, ν₂, ν₃, ν₄]"
   ]
  },
  {
   "cell_type": "code",
   "execution_count": null,
   "metadata": {},
   "outputs": [],
   "source": [
    "κ = ####;\n",
    "x₀ = ####;"
   ]
  },
  {
   "cell_type": "code",
   "execution_count": null,
   "metadata": {},
   "outputs": [],
   "source": [
    "tt, xx = gillespie_alg(SM, κ, ν, x₀, 8.0)"
   ]
  },
  {
   "cell_type": "code",
   "execution_count": null,
   "metadata": {},
   "outputs": [],
   "source": [
    "plot(tt, xx, \n",
    "    linetype=:steppre, \n",
    "    labels = [\"# of genes\" \"# of mRNA molecules\" \"# of proteins\"], \n",
    "    xlabel = \"Time\",\n",
    "    ylabel = \"Counts\",\n",
    "    legend=:topleft)"
   ]
  },
  {
   "cell_type": "markdown",
   "metadata": {},
   "source": [
    "(b) Protein dimerization"
   ]
  },
  {
   "cell_type": "markdown",
   "metadata": {},
   "source": [
    "State variable\n",
    "\n",
    "$X(t) = (N_G(t),N_M(t),N_P(t), N_D(t))$\n",
    "\n",
    "Reactions\n",
    "\n",
    "$\\emptyset \\xrightarrow{\\kappa_1}M$\n",
    "\n",
    "$M \\xrightarrow{\\kappa_2}M+P $\n",
    "\n",
    "$M \\xrightarrow{d_M}\\emptyset $\n",
    "\n",
    "$P \\xrightarrow{d_P}\\emptyset $\n",
    "\n",
    "$2P \\xrightarrow{\\kappa_3}D $\n",
    "\n",
    "$D \\xrightarrow{d_d}\\emptyset $\n"
   ]
  },
  {
   "cell_type": "code",
   "execution_count": null,
   "metadata": {},
   "outputs": [],
   "source": [
    "# Number of reactions\n",
    "Nᵣ = 6\n",
    "\n",
    "# Compute the stoichiometric matrix \n",
    "Products = ####\n",
    "Reactants = ####\n",
    "SM = (Products-Reactants)';"
   ]
  },
  {
   "cell_type": "code",
   "execution_count": null,
   "metadata": {},
   "outputs": [],
   "source": [
    "ν₅ = function(κ₅, x) return #### end \n",
    "ν₆ = function(κ₆, x) return #### end \n",
    "ν = [ν₁, ν₂, ν₃, ν₄, ν₅, ν₆]\n",
    "\n",
    "κ = ####\n",
    "x₀ = ####\n",
    "tt, xx = gillespie_alg(SM, κ, ν, x₀, 20.0)\n",
    "plot(tt, xx, \n",
    "    linetype = :steppre, \n",
    "    labels = [\"# of genes\" \"# of mRNA molecules\" \"# of proteins\" \"# of dimers\"], \n",
    "    xlabel = \"Time\",\n",
    "    ylabel = \"Counts\",\n",
    "    legend = :topleft)"
   ]
  }
 ],
 "metadata": {
  "kernelspec": {
   "display_name": "Julia 1.6.0",
   "language": "julia",
   "name": "julia-1.6"
  },
  "language_info": {
   "file_extension": ".jl",
   "mimetype": "application/julia",
   "name": "julia",
   "version": "1.6.0"
  }
 },
 "nbformat": 4,
 "nbformat_minor": 4
}
