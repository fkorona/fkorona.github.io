{
 "cells": [
  {
   "cell_type": "code",
   "execution_count": null,
   "metadata": {},
   "outputs": [],
   "source": [
    "#using Pkg\n",
    "#Pkg.add(\"DifferentialEquations\");\n",
    "#Pkg.add(\"SpecialFunctions\");\n",
    "#Pkg.add(\"StatsBase\");"
   ]
  },
  {
   "cell_type": "code",
   "execution_count": null,
   "metadata": {},
   "outputs": [],
   "source": [
    "using DifferentialEquations, Plots"
   ]
  },
  {
   "cell_type": "markdown",
   "metadata": {},
   "source": [
    "## 1. Ordinary Differential Equations"
   ]
  },
  {
   "cell_type": "markdown",
   "metadata": {},
   "source": [
    "### ODE 1\n",
    "\n",
    "$$\\frac{du(t)}{dt} = - \\kappa u(t) \\quad u(t_0) = 0.1, $$ \n",
    "where $u: \\mathbb{R}^+\\to\\mathbb{R}^+$ and $\\kappa = 0.25$."
   ]
  },
  {
   "cell_type": "markdown",
   "metadata": {},
   "source": [
    "Define your differential equation as a function that updates the LHS"
   ]
  },
  {
   "cell_type": "code",
   "execution_count": null,
   "metadata": {},
   "outputs": [],
   "source": [
    "function ode1!(du, u, p, t)\n",
    "    κ = ####\n",
    "    du .= ####\n",
    "end"
   ]
  },
  {
   "cell_type": "markdown",
   "metadata": {},
   "source": [
    "Set the initial condition, the time interval of interest and the parameters"
   ]
  },
  {
   "cell_type": "code",
   "execution_count": null,
   "metadata": {},
   "outputs": [],
   "source": [
    "u₀ = [####]\n",
    "\n",
    "tspan = (####, ####)\n",
    "\n",
    "κ = ####\n",
    "p = [κ];"
   ]
  },
  {
   "cell_type": "markdown",
   "metadata": {},
   "source": [
    "Create an ordinary differential equation problem with the variables defined above."
   ]
  },
  {
   "cell_type": "code",
   "execution_count": null,
   "metadata": {},
   "outputs": [],
   "source": [
    "prob = ODEProblem(ode1!, u₀, tspan, p)"
   ]
  },
  {
   "cell_type": "markdown",
   "metadata": {},
   "source": [
    "Solve the ODE problem"
   ]
  },
  {
   "cell_type": "code",
   "execution_count": null,
   "metadata": {},
   "outputs": [],
   "source": [
    "sol = solve(####)\n",
    "# OR sol = solve(####, #### (algorithm name()); #### (parameters))"
   ]
  },
  {
   "cell_type": "markdown",
   "metadata": {},
   "source": [
    "Plot your numerical solution "
   ]
  },
  {
   "cell_type": "code",
   "execution_count": null,
   "metadata": {},
   "outputs": [],
   "source": [
    "plot(sol, label = \"Numeric solution\", linewidth= 6.0) \n",
    "plot!(t -> u₀[1]*exp(-κ*t),  label = \"Analytical solution\", linewidth= 6.0, linestyle=:dash)"
   ]
  },
  {
   "cell_type": "markdown",
   "metadata": {},
   "source": [
    "### ODE 2\n",
    "\n",
    "$$d\\begin{bmatrix}u_1(t) \\\\ u_2(t) \\end{bmatrix} = \\begin{bmatrix}-\\kappa_1u_1(t)+u_2(t) \\\\ -\\kappa_2u_1(t)u_2(t) \\end{bmatrix}dt, \\quad\\quad \\begin{bmatrix}u_1(0) \\\\ u_2(0) \\end{bmatrix} = \\begin{bmatrix}1 \\\\ 2 \\end{bmatrix}.$$\n",
    "\n",
    "Here, $u = (u_1, u_2)^\\top$ and $\\kappa_1 = 0.5$ and $\\kappa_2 = 0.25$."
   ]
  },
  {
   "cell_type": "code",
   "execution_count": null,
   "metadata": {},
   "outputs": [],
   "source": [
    "function ode2!(du, u, p, t)\n",
    "    κ₁, κ₂ = p\n",
    "    du .= [####, \n",
    "           ####]\n",
    "end"
   ]
  },
  {
   "cell_type": "markdown",
   "metadata": {},
   "source": [
    "Set the initial condition, the time interval of interest and the parameters"
   ]
  },
  {
   "cell_type": "code",
   "execution_count": null,
   "metadata": {},
   "outputs": [],
   "source": [
    "u₀ = ####\n",
    "\n",
    "tspan = (####, ####)\n",
    "\n",
    "κ₁ = ####\n",
    "κ₂ = ####\n",
    "p = [κ₁, κ₂];"
   ]
  },
  {
   "cell_type": "markdown",
   "metadata": {},
   "source": [
    "Create an ordinary differential equation problem with the variables defined above."
   ]
  },
  {
   "cell_type": "code",
   "execution_count": null,
   "metadata": {},
   "outputs": [],
   "source": [
    "prob = ####"
   ]
  },
  {
   "cell_type": "markdown",
   "metadata": {},
   "source": [
    "Solve the ODE problem"
   ]
  },
  {
   "cell_type": "code",
   "execution_count": null,
   "metadata": {},
   "outputs": [],
   "source": [
    "sol = solve(prob)\n",
    "# OR sol2 = solve(prob2, #### (algorithm name); #### (parameters))"
   ]
  },
  {
   "cell_type": "code",
   "execution_count": null,
   "metadata": {},
   "outputs": [],
   "source": [
    "plot(sol, label = [\"u1(t)\" \"u2(t)\"], linewidth= 6.0) "
   ]
  },
  {
   "cell_type": "markdown",
   "metadata": {},
   "source": [
    "The object \"sol\" behaves like a function; for an arbitrary t, you can ask for sol(t). "
   ]
  },
  {
   "cell_type": "code",
   "execution_count": null,
   "metadata": {},
   "outputs": [],
   "source": [
    "sol(0.0)"
   ]
  },
  {
   "cell_type": "code",
   "execution_count": null,
   "metadata": {},
   "outputs": [],
   "source": [
    "sol(10.0)"
   ]
  },
  {
   "cell_type": "markdown",
   "metadata": {},
   "source": [
    "## 2.Degradation and production (revisited)"
   ]
  },
  {
   "cell_type": "markdown",
   "metadata": {},
   "source": [
    "(a) numerical solution to the chemical master equation "
   ]
  },
  {
   "cell_type": "code",
   "execution_count": null,
   "metadata": {},
   "outputs": [],
   "source": [
    "function ME_degr_and_prod!(du, u, p, t)\n",
    "    \n",
    "    κ₁, κ₂, V = p\n",
    "\n",
    "    u ./= sum(u) \n",
    "\n",
    "    u_padded = [0; u; 0]\n",
    "    \n",
    "    ####  \n",
    "    #### write your RHS here\n",
    "    ####\n",
    "    \n",
    "    du .=  \n",
    "end"
   ]
  },
  {
   "cell_type": "code",
   "execution_count": null,
   "metadata": {},
   "outputs": [],
   "source": [
    "n_upperbound=24\n",
    "u₀ = [1; zeros(n_upperbound)]\n",
    "\n",
    "tspan = (0, ####)\n",
    "\n",
    "κ₁, κ₂, V = ####\n",
    "p = [κ₁, κ₂, V];"
   ]
  },
  {
   "cell_type": "code",
   "execution_count": null,
   "metadata": {},
   "outputs": [],
   "source": [
    "prob = "
   ]
  },
  {
   "cell_type": "code",
   "execution_count": null,
   "metadata": {},
   "outputs": [],
   "source": [
    "sol = solve(prob);\n",
    "#solve(prob, Tsit5(); dt=0.1)"
   ]
  },
  {
   "cell_type": "code",
   "execution_count": null,
   "metadata": {},
   "outputs": [],
   "source": [
    "tvec = 0:0.05:50\n",
    "xvec = sol(tvec).u'\n",
    "xvec = permutedims(reshape(hcat(xvec...),(length(xvec[1]), length(xvec))))"
   ]
  },
  {
   "cell_type": "code",
   "execution_count": null,
   "metadata": {},
   "outputs": [],
   "source": [
    "surface(tvec, 0:n_upperbound, xvec', \n",
    "    camera = (25, 30), \n",
    "    colour = :coolwarm, \n",
    "    xlabel = \"time (sec)\", \n",
    "    ylabel = \"n (# of molecules)\",\n",
    "    zlabel = \"p(t, n)\",\n",
    "    title = \"Degradation & Production\")"
   ]
  },
  {
   "cell_type": "markdown",
   "metadata": {},
   "source": [
    "(b) validation with the steady-state solution $\\phi(n)$ and Gillespie SSA"
   ]
  },
  {
   "cell_type": "markdown",
   "metadata": {},
   "source": [
    "$\\phi(n)$ (Exercise 1 - Problem 3c)"
   ]
  },
  {
   "cell_type": "code",
   "execution_count": null,
   "metadata": {},
   "outputs": [],
   "source": [
    "compute_ϕ = function(n_upperbound, κ₁, κ₂)\n",
    "   #####\n",
    "end\n",
    "\n",
    "ϕ = compute_ϕ(n_upperbound, κ₁, κ₂);"
   ]
  },
  {
   "cell_type": "markdown",
   "metadata": {},
   "source": [
    "Gillespie algorithm (Exercise 1 - Problem 3b)"
   ]
  },
  {
   "cell_type": "code",
   "execution_count": null,
   "metadata": {},
   "outputs": [],
   "source": [
    "####\n",
    "#### Your \"propensities\" function and Gillespie algorithm here\n",
    "####"
   ]
  },
  {
   "cell_type": "code",
   "execution_count": null,
   "metadata": {},
   "outputs": [],
   "source": [
    "N = 1e5                     #number of realisations\n",
    "n_upperbound = 24\n",
    "p = zeros(n_upperbound+1)   #vector of probabilities\n",
    "\n",
    "for n in 1:N   \n",
    "    tt, xx = ####\n",
    "    A = xx[end]    \n",
    "    if (A <= n_upperbound) \n",
    "        p[xx[end]+1] += 1\n",
    "    end\n",
    "end\n",
    "\n",
    "p /= N;"
   ]
  },
  {
   "cell_type": "markdown",
   "metadata": {},
   "source": [
    "Histogram (Gillespie)"
   ]
  },
  {
   "cell_type": "code",
   "execution_count": null,
   "metadata": {},
   "outputs": [],
   "source": [
    "bar(collect(0:24), p, bar_width = 0.1,\n",
    "    colour = :lightgrey,\n",
    "    label = \"Gillespie SSA\",\n",
    "    xlabel = \"number of molecules\",\n",
    "    ylabel = \"stationary distribution\");"
   ]
  },
  {
   "cell_type": "markdown",
   "metadata": {},
   "source": [
    "Numerical solution $p(t, n)$ at $t=T$."
   ]
  },
  {
   "cell_type": "code",
   "execution_count": null,
   "metadata": {},
   "outputs": [],
   "source": [
    "plot!(collect(0:n_upperbound), sol(tspan[2]), \n",
    "    label = \"numeric solution\",\n",
    "    title = \"p(t, n) @ t = \".*string(tspan[2]).*\"sec\",\n",
    "    linewidth = 2,\n",
    "    colour = :black);"
   ]
  },
  {
   "cell_type": "markdown",
   "metadata": {},
   "source": [
    "Steady-state solution $\\phi(n)$"
   ]
  },
  {
   "cell_type": "code",
   "execution_count": null,
   "metadata": {},
   "outputs": [],
   "source": [
    "plot!(collect(0:n_upperbound), ϕ,\n",
    "        linewidth = 3,\n",
    "        colour = :red,\n",
    "        label = \"steady-state solution phi(n)\", linestyle=:dash)"
   ]
  },
  {
   "cell_type": "markdown",
   "metadata": {},
   "source": [
    "## 3. Dimerization and production"
   ]
  },
  {
   "cell_type": "markdown",
   "metadata": {},
   "source": [
    "(a) numerical solution to the chemical master equation "
   ]
  },
  {
   "cell_type": "code",
   "execution_count": null,
   "metadata": {},
   "outputs": [],
   "source": [
    "function ME_dim_and_prod!(du, u, p, t)\n",
    "    \n",
    "    κ₁, κ₂, V = p\n",
    "\n",
    "    u ./= sum(u) \n",
    "\n",
    "    u_padded = [0; u; 0; 0]\n",
    "    \n",
    "    ####  \n",
    "    #### write your RHS here\n",
    "    ####\n",
    "    \n",
    "    du .=  \n",
    "end"
   ]
  },
  {
   "cell_type": "code",
   "execution_count": null,
   "metadata": {},
   "outputs": [],
   "source": [
    "n_upperbound = 24\n",
    "u₀ = [1; zeros(n_upperbound)]\n",
    "\n",
    "tspan = (0, ####)\n",
    "κ₁, κ₂, V = ####\n",
    "p = [κ₁, κ₂, V];"
   ]
  },
  {
   "cell_type": "code",
   "execution_count": null,
   "metadata": {},
   "outputs": [],
   "source": [
    "prob = ####\n",
    "#sol = solve(prob)\n",
    "sol =  solve(prob, Tsit5(); dt=0.1, adaptive=false);"
   ]
  },
  {
   "cell_type": "code",
   "execution_count": null,
   "metadata": {},
   "outputs": [],
   "source": [
    "tvec = 0:0.01:50\n",
    "xvec = sol(tvec).u'\n",
    "xvec = permutedims(reshape(hcat(xvec...),(length(xvec[1]), length(xvec))))"
   ]
  },
  {
   "cell_type": "code",
   "execution_count": null,
   "metadata": {},
   "outputs": [],
   "source": [
    "surface(tvec, 0:n_upperbound, xvec', \n",
    "    camera = (25, 30), \n",
    "    colour = :coolwarm, \n",
    "    xlabel = \"time (sec)\", \n",
    "    ylabel = \"n (# of molecules)\",\n",
    "    zlabel = \"p(t, n)\",\n",
    "    title = \"Dimerization & Production\")"
   ]
  },
  {
   "cell_type": "markdown",
   "metadata": {},
   "source": [
    "(b) steady-state solution to the chemical master equation "
   ]
  },
  {
   "cell_type": "code",
   "execution_count": null,
   "metadata": {},
   "outputs": [],
   "source": [
    "using SpecialFunctions \n",
    "compute_ϕ = function(n_upperbound, κ₁, κ₂)\n",
    "    \n",
    "    ϕ = zeros(n_upperbound+1)\n",
    "\n",
    "    for n in 0:n_upperbound\n",
    "       ϕ[n+1] = ####\n",
    "    end\n",
    "    return ϕ./(sum(ϕ))\n",
    "end\n",
    "\n",
    "ϕ = compute_ϕ(n_upperbound, κ₁, κ₂)"
   ]
  },
  {
   "cell_type": "markdown",
   "metadata": {},
   "source": [
    "(c) validation of (a) and (b) with the Gillespie algorithm"
   ]
  },
  {
   "cell_type": "code",
   "execution_count": null,
   "metadata": {},
   "outputs": [],
   "source": [
    "# Number of reactions Nᵣ = 2\n",
    "# Compute the stoichiometric matrix \n",
    "Products = ####\n",
    "Reactants = ####\n",
    "SM = (Products-Reactants)'\n",
    "\n",
    "# Compute the propensity function for each of the reactions\n",
    "ν₁ =  function(κ₁, x) return #### end\n",
    "ν₂ = function(κ₂, x) return #### end "
   ]
  },
  {
   "cell_type": "code",
   "execution_count": null,
   "metadata": {},
   "outputs": [],
   "source": [
    "N = 1e5                     #number of realisations\n",
    "n_upperbound = 24\n",
    "p = zeros(n_upperbound+1)   #vector of probabilities\n",
    "\n",
    "for n in 1:N   \n",
    "    tt, xx = gillespie_alg(SM, [κ₁, κ₂], [ν₁, ν₂], [0], 50.0)\n",
    "    A = xx[end]    \n",
    "    if (A <= n_upperbound) \n",
    "        p[xx[end]+1] += 1\n",
    "    end\n",
    "end\n",
    "\n",
    "p /= N;"
   ]
  },
  {
   "cell_type": "markdown",
   "metadata": {},
   "source": [
    "Histogram (Gillespie)"
   ]
  },
  {
   "cell_type": "code",
   "execution_count": null,
   "metadata": {},
   "outputs": [],
   "source": [
    "bar(collect(0:24), p, bar_width = 0.1,\n",
    "    colour = :lightgrey,\n",
    "    label = \"Gillespie SSA\",\n",
    "    xlabel = \"number of molecules\",\n",
    "    ylabel = \"stationary distribution\",\n",
    "    legend = :topleft);"
   ]
  },
  {
   "cell_type": "markdown",
   "metadata": {},
   "source": [
    "Numerical solution $p(t, n)$ at $t=T$."
   ]
  },
  {
   "cell_type": "code",
   "execution_count": null,
   "metadata": {},
   "outputs": [],
   "source": [
    "plot!(collect(0:n_upperbound), sol(tspan[2]), \n",
    "    label = \"numeric solution\",\n",
    "    title = \"p(t, n) @ t = \".*string(tspan[2]).*\"sec\",\n",
    "    linewidth = 2,\n",
    "    colour = :black); "
   ]
  },
  {
   "cell_type": "markdown",
   "metadata": {},
   "source": [
    "Steady-state solution $\\phi(n)$"
   ]
  },
  {
   "cell_type": "code",
   "execution_count": null,
   "metadata": {},
   "outputs": [],
   "source": [
    "plot!(collect(0:n_upperbound), ϕ, \n",
    "        linewidth = 3,\n",
    "        colour = :red,\n",
    "        label = \"steady-state solution phi(n)\", linestyle=:dash)"
   ]
  },
  {
   "cell_type": "markdown",
   "metadata": {},
   "source": [
    "## Homework"
   ]
  },
  {
   "cell_type": "code",
   "execution_count": null,
   "metadata": {},
   "outputs": [],
   "source": []
  }
 ],
 "metadata": {
  "kernelspec": {
   "display_name": "Julia 1.6.2",
   "language": "julia",
   "name": "julia-1.6"
  },
  "language_info": {
   "file_extension": ".jl",
   "mimetype": "application/julia",
   "name": "julia",
   "version": "1.6.2"
  }
 },
 "nbformat": 4,
 "nbformat_minor": 4
}
