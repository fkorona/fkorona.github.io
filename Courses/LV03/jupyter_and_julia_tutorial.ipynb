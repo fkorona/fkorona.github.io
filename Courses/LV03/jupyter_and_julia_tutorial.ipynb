{
 "cells": [
  {
   "cell_type": "markdown",
   "metadata": {},
   "source": [
    "# Using Markdown and Julia in Jupyter notebooks\n",
    "*CHEM-LV03 Analysis and Simulation of Stochastic Reaction-diffusion Systems* <br>\n",
    "\n"
   ]
  },
  {
   "cell_type": "markdown",
   "metadata": {},
   "source": [
    "---\n",
    "\n",
    "A notebook consists of markdown cells and code cells. You can\n",
    "\n",
    "* select a cell by clicking it once\n",
    "* see and edit the source code of a cell by double clicking it\n",
    "* run the selected cell with `shift + Enter`\n",
    "* click *Help > Keyboard shortcuts* for more helpful commands\n",
    "* find more detailed Jupyter notebook tutorials [here](https://jupyter-notebook.readthedocs.io/en/stable/index.html) or by searching the internet\n",
    "\n",
    "When submitting your solution as a Jupyter notebook, always **remember to Kernel > Restart & Run all** and check that the output looks as desired before submitting.\n",
    "\n",
    "---"
   ]
  },
  {
   "cell_type": "markdown",
   "metadata": {},
   "source": [
    "## 1. Markdown\n",
    "The Jupyter notebook has extensive markup capabilities. Here we show some examples. You can use markdown cells to write a complete answer with text and equations. They support Latex syntax for equations inside dollar signs, as in `$a = \\sqrt{2}$`.\n",
    "\n",
    "\\begin{equation}\n",
    "a = \\sqrt{2}\n",
    "\\end{equation}\n",
    "\n",
    "You can go ahead and double click cells below to see their Markdown code."
   ]
  },
  {
   "cell_type": "markdown",
   "metadata": {},
   "source": [
    "### 1.2 Matrices\n",
    "\n",
    "Matrices can be written like here:\n",
    "\n",
    "$$\n",
    "\\begin{align*}\n",
    "M &= \\begin{bmatrix}\n",
    "a & b \\\\\n",
    "c & d\n",
    "\\end{bmatrix}\n",
    "&\n",
    "M^T &= \\begin{bmatrix}\n",
    "a & c \\\\\n",
    "b & d\n",
    "\\end{bmatrix}\n",
    "\\end{align*}\n",
    "$$\n",
    "\n"
   ]
  },
  {
   "cell_type": "markdown",
   "metadata": {},
   "source": [
    "### 1.3 Showing intermediate steps\n",
    "In some exercises you may need to do longer calculations, and should show intermediate steps in your solution. You use `\\begin{align*}` like in this example.\n",
    "\n",
    "**Problem:** Let $X,Y$ be two independent random variables so that $X \\sim \\text{Exponential}(\\lambda_1)$ and $Y \\sim \\text{Exponential}(\\lambda_2)$. Derive the distribution of $Z = \\min\\{X,Y\\}$.\n",
    "\n",
    "**Solution:**\n",
    "We know the cumulative density functions of $X$ and $Y$, which are\n",
    "\n",
    "$$\n",
    "F_X(x) = 1 - e^{-\\lambda_1 x} \\hspace{1cm} \\text{and} \\hspace{1cm} F_Y(y) = 1 - e^{-\\lambda_2 y} \n",
    "$$\n",
    "\n",
    "and can compute the cumulative density function of $Z$ as\n",
    "\n",
    "$$\n",
    "\\begin{align*}\n",
    "F_Z(z) &= P(Z \\leq z)\\\\ \n",
    "  &= 1 - P(Z \\geq z) \\\\\n",
    "  &= 1 - P(\\min\\{X,Y\\} \\geq z) \\\\\n",
    "  &= 1 - P(X \\geq z \\text{ and } Y \\geq z)\\\\\n",
    "  &= 1 - P(X \\geq z) \\cdot P(Y \\geq z)\\\\\n",
    "  &= 1 - (1 - F_X(z)) \\cdot (1 - F_Y(z))\\\\\n",
    "  &= 1 - e^{-\\lambda_1 z} \\cdot e^{-\\lambda_2 z} \\\\\n",
    "  &= 1 - e^{-(\\lambda_1 + \\lambda_2) z}\n",
    "\\end{align*}\n",
    "$$\n",
    "\n",
    "which means that $Z \\sim \\text{Exponential}(\\lambda_1 + \\lambda_2)$."
   ]
  },
  {
   "cell_type": "markdown",
   "metadata": {},
   "source": [
    "## 2. Julia programming <a name=\"sec2\"></a>\n",
    "\n",
    "We will first a library that we commonly need."
   ]
  },
  {
   "cell_type": "code",
   "execution_count": 1,
   "metadata": {},
   "outputs": [],
   "source": [
    "# This is a code cell\n",
    "using Plots"
   ]
  },
  {
   "cell_type": "markdown",
   "metadata": {},
   "source": [
    "### 2.1 Variables\n",
    "You can declare variables and check their type like so:"
   ]
  },
  {
   "cell_type": "code",
   "execution_count": 2,
   "metadata": {},
   "outputs": [
    {
     "name": "stdout",
     "output_type": "stream",
     "text": [
      "Float64\n",
      "Vector{Float64}\n",
      "String\n"
     ]
    }
   ],
   "source": [
    "a = 0.0 # float\n",
    "b = [1.0, 2.0, -1.0] # array\n",
    "c = \"hello\" # string\n",
    "println(typeof(a))\n",
    "println(typeof(b))\n",
    "println(typeof(c))"
   ]
  },
  {
   "cell_type": "markdown",
   "metadata": {},
   "source": [
    "### 2.2 Arrays"
   ]
  },
  {
   "cell_type": "markdown",
   "metadata": {},
   "source": [
    "#### 2.2.1 Creating arrays"
   ]
  },
  {
   "cell_type": "code",
   "execution_count": 3,
   "metadata": {},
   "outputs": [
    {
     "name": "stdout",
     "output_type": "stream",
     "text": [
      "[1.3 2.1 3.3; 0.4 0.2 0.1]\n",
      "size = (2, 3)\n",
      "type = Matrix{Float64}\n"
     ]
    }
   ],
   "source": [
    "# creating a 2-dimensional array of floats\n",
    "A = [1.3 2.1 3.3; 0.4 0.2 0.1]\n",
    "println(A)\n",
    "println(\"size = \", size(A))\n",
    "println(\"type = \", typeof(A))"
   ]
  },
  {
   "cell_type": "code",
   "execution_count": 4,
   "metadata": {},
   "outputs": [
    {
     "name": "stdout",
     "output_type": "stream",
     "text": [
      "[0, 0, 0, 0]\n",
      "size = (4,)\n",
      "type =Vector{Int64}\n"
     ]
    }
   ],
   "source": [
    "# creating a 1-dimensional integer array\n",
    "B = [0,0,0,0]\n",
    "println(B)\n",
    "println(\"size = \", size(B))\n",
    "println(\"type =\", typeof(B))"
   ]
  },
  {
   "cell_type": "markdown",
   "metadata": {},
   "source": [
    "#### 2.2.2 Reshaping"
   ]
  },
  {
   "cell_type": "code",
   "execution_count": 5,
   "metadata": {},
   "outputs": [
    {
     "name": "stdout",
     "output_type": "stream",
     "text": [
      "[1.3, 0.4, 2.1, 0.2, 3.3, 0.1]\n",
      "type = Vector{Float64}\n",
      "length = 6\n"
     ]
    }
   ],
   "source": [
    "A_flat = vcat(A...)\n",
    "println(A_flat)\n",
    "println(\"type = \", typeof(A_flat))\n",
    "println(\"length = \", length(A_flat))"
   ]
  },
  {
   "cell_type": "markdown",
   "metadata": {},
   "source": [
    "#### 2.2.3 Accessing array elements"
   ]
  },
  {
   "cell_type": "code",
   "execution_count": 6,
   "metadata": {},
   "outputs": [
    {
     "name": "stdout",
     "output_type": "stream",
     "text": [
      "1.3\n"
     ]
    }
   ],
   "source": [
    "println(A_flat[1]) # first element of A_flat, array indices start from one"
   ]
  },
  {
   "cell_type": "code",
   "execution_count": 7,
   "metadata": {},
   "outputs": [
    {
     "name": "stdout",
     "output_type": "stream",
     "text": [
      "[1.3, 2.1, 3.3]\n",
      "size = (3,)\n"
     ]
    }
   ],
   "source": [
    "a_row = A[1, :] # first row of A\n",
    "println(a_row)\n",
    "println(\"size = \", size(a_row))"
   ]
  },
  {
   "cell_type": "markdown",
   "metadata": {},
   "source": [
    "#### 2.2.4 Editing array content"
   ]
  },
  {
   "cell_type": "code",
   "execution_count": 8,
   "metadata": {},
   "outputs": [
    {
     "name": "stdout",
     "output_type": "stream",
     "text": [
      "[1.3 100.0 3.3; 0.4 0.2 0.1]"
     ]
    }
   ],
   "source": [
    "# if we copy using copy() and edit it, original doesn't change\n",
    "A_copy = copy(A)\n",
    "A_copy[1,2] = 100\n",
    "print(A_copy) # has now 100 in it"
   ]
  },
  {
   "cell_type": "code",
   "execution_count": 9,
   "metadata": {},
   "outputs": [
    {
     "name": "stdout",
     "output_type": "stream",
     "text": [
      "[1.3 2.1 3.3; 0.4 0.2 0.1]"
     ]
    }
   ],
   "source": [
    "print(A) # hasn't changed"
   ]
  },
  {
   "cell_type": "markdown",
   "metadata": {},
   "source": [
    "### 2.3 Matrix and vector arithmetic\n",
    "\n",
    "In some exercise problems it may need to do matrix computations on a computer. You can use arrays to represent mathematical matrices and vectors."
   ]
  },
  {
   "cell_type": "code",
   "execution_count": 10,
   "metadata": {},
   "outputs": [
    {
     "name": "stdout",
     "output_type": "stream",
     "text": [
      "[1.3 2.1; 0.4 0.2]"
     ]
    }
   ],
   "source": [
    "M = A[:, 1:2] # take first two columns of A\n",
    "print(M) # M is a 2 x 2 matrix"
   ]
  },
  {
   "cell_type": "code",
   "execution_count": 11,
   "metadata": {},
   "outputs": [
    {
     "name": "stdout",
     "output_type": "stream",
     "text": [
      "[1.6900000000000002 4.41; 0.16000000000000003 0.04000000000000001]"
     ]
    }
   ],
   "source": [
    "print(M.*M) # elementwise multiplication"
   ]
  },
  {
   "cell_type": "code",
   "execution_count": 12,
   "metadata": {},
   "outputs": [
    {
     "name": "stdout",
     "output_type": "stream",
     "text": [
      "[2.5300000000000002 3.1500000000000004; 0.6000000000000001 0.8800000000000001]"
     ]
    }
   ],
   "source": [
    "print(M*M) # matrix multiplication, can also be done with @ "
   ]
  },
  {
   "cell_type": "code",
   "execution_count": 13,
   "metadata": {},
   "outputs": [
    {
     "name": "stdout",
     "output_type": "stream",
     "text": [
      "[1.3 0.4; 2.1 0.2]"
     ]
    }
   ],
   "source": [
    "print(M') # transpose"
   ]
  },
  {
   "cell_type": "code",
   "execution_count": 14,
   "metadata": {},
   "outputs": [
    {
     "name": "stdout",
     "output_type": "stream",
     "text": [
      "[-0.3448275862068966 3.6206896551724137; 0.689655172413793 -2.2413793103448274]"
     ]
    }
   ],
   "source": [
    "M_inv = inv(M) # matrix inverse\n",
    "print(M_inv)"
   ]
  },
  {
   "cell_type": "markdown",
   "metadata": {},
   "source": [
    "### 2.4 Loops\n",
    "The below code shows how to simulate 3 realizations of a stochastic process and visualize it."
   ]
  },
  {
   "cell_type": "code",
   "execution_count": 15,
   "metadata": {},
   "outputs": [
    {
     "data": {
      "image/svg+xml": [
       "<?xml version=\"1.0\" encoding=\"utf-8\"?>\n",
       "<svg xmlns=\"http://www.w3.org/2000/svg\" xmlns:xlink=\"http://www.w3.org/1999/xlink\" width=\"600\" height=\"400\" viewBox=\"0 0 2400 1600\">\n",
       "<defs>\n",
       "  <clipPath id=\"clip3700\">\n",
       "    <rect x=\"0\" y=\"0\" width=\"2400\" height=\"1600\"/>\n",
       "  </clipPath>\n",
       "</defs>\n",
       "<path clip-path=\"url(#clip3700)\" d=\"\n",
       "M0 1600 L2400 1600 L2400 0 L0 0  Z\n",
       "  \" fill=\"#ffffff\" fill-rule=\"evenodd\" fill-opacity=\"1\"/>\n",
       "<defs>\n",
       "  <clipPath id=\"clip3701\">\n",
       "    <rect x=\"480\" y=\"0\" width=\"1681\" height=\"1600\"/>\n",
       "  </clipPath>\n",
       "</defs>\n",
       "<path clip-path=\"url(#clip3700)\" d=\"\n",
       "M230.483 1425.62 L2352.76 1425.62 L2352.76 121.675 L230.483 121.675  Z\n",
       "  \" fill=\"#ffffff\" fill-rule=\"evenodd\" fill-opacity=\"1\"/>\n",
       "<defs>\n",
       "  <clipPath id=\"clip3702\">\n",
       "    <rect x=\"230\" y=\"121\" width=\"2123\" height=\"1305\"/>\n",
       "  </clipPath>\n",
       "</defs>\n",
       "<polyline clip-path=\"url(#clip3702)\" style=\"stroke:#000000; stroke-width:2; stroke-opacity:0.1; fill:none\" points=\"\n",
       "  270.324,1425.62 270.324,121.675 \n",
       "  \"/>\n",
       "<polyline clip-path=\"url(#clip3702)\" style=\"stroke:#000000; stroke-width:2; stroke-opacity:0.1; fill:none\" points=\"\n",
       "  775.916,1425.62 775.916,121.675 \n",
       "  \"/>\n",
       "<polyline clip-path=\"url(#clip3702)\" style=\"stroke:#000000; stroke-width:2; stroke-opacity:0.1; fill:none\" points=\"\n",
       "  1281.51,1425.62 1281.51,121.675 \n",
       "  \"/>\n",
       "<polyline clip-path=\"url(#clip3702)\" style=\"stroke:#000000; stroke-width:2; stroke-opacity:0.1; fill:none\" points=\"\n",
       "  1787.1,1425.62 1787.1,121.675 \n",
       "  \"/>\n",
       "<polyline clip-path=\"url(#clip3702)\" style=\"stroke:#000000; stroke-width:2; stroke-opacity:0.1; fill:none\" points=\"\n",
       "  2292.69,1425.62 2292.69,121.675 \n",
       "  \"/>\n",
       "<polyline clip-path=\"url(#clip3702)\" style=\"stroke:#000000; stroke-width:2; stroke-opacity:0.1; fill:none\" points=\"\n",
       "  230.483,1313.41 2352.76,1313.41 \n",
       "  \"/>\n",
       "<polyline clip-path=\"url(#clip3702)\" style=\"stroke:#000000; stroke-width:2; stroke-opacity:0.1; fill:none\" points=\"\n",
       "  230.483,1059.51 2352.76,1059.51 \n",
       "  \"/>\n",
       "<polyline clip-path=\"url(#clip3702)\" style=\"stroke:#000000; stroke-width:2; stroke-opacity:0.1; fill:none\" points=\"\n",
       "  230.483,805.601 2352.76,805.601 \n",
       "  \"/>\n",
       "<polyline clip-path=\"url(#clip3702)\" style=\"stroke:#000000; stroke-width:2; stroke-opacity:0.1; fill:none\" points=\"\n",
       "  230.483,551.694 2352.76,551.694 \n",
       "  \"/>\n",
       "<polyline clip-path=\"url(#clip3702)\" style=\"stroke:#000000; stroke-width:2; stroke-opacity:0.1; fill:none\" points=\"\n",
       "  230.483,297.787 2352.76,297.787 \n",
       "  \"/>\n",
       "<polyline clip-path=\"url(#clip3700)\" style=\"stroke:#000000; stroke-width:4; stroke-opacity:1; fill:none\" points=\"\n",
       "  230.483,1425.62 2352.76,1425.62 \n",
       "  \"/>\n",
       "<polyline clip-path=\"url(#clip3700)\" style=\"stroke:#000000; stroke-width:4; stroke-opacity:1; fill:none\" points=\"\n",
       "  230.483,1425.62 230.483,121.675 \n",
       "  \"/>\n",
       "<polyline clip-path=\"url(#clip3700)\" style=\"stroke:#000000; stroke-width:4; stroke-opacity:1; fill:none\" points=\"\n",
       "  270.324,1425.62 270.324,1409.97 \n",
       "  \"/>\n",
       "<polyline clip-path=\"url(#clip3700)\" style=\"stroke:#000000; stroke-width:4; stroke-opacity:1; fill:none\" points=\"\n",
       "  775.916,1425.62 775.916,1409.97 \n",
       "  \"/>\n",
       "<polyline clip-path=\"url(#clip3700)\" style=\"stroke:#000000; stroke-width:4; stroke-opacity:1; fill:none\" points=\"\n",
       "  1281.51,1425.62 1281.51,1409.97 \n",
       "  \"/>\n",
       "<polyline clip-path=\"url(#clip3700)\" style=\"stroke:#000000; stroke-width:4; stroke-opacity:1; fill:none\" points=\"\n",
       "  1787.1,1425.62 1787.1,1409.97 \n",
       "  \"/>\n",
       "<polyline clip-path=\"url(#clip3700)\" style=\"stroke:#000000; stroke-width:4; stroke-opacity:1; fill:none\" points=\"\n",
       "  2292.69,1425.62 2292.69,1409.97 \n",
       "  \"/>\n",
       "<polyline clip-path=\"url(#clip3700)\" style=\"stroke:#000000; stroke-width:4; stroke-opacity:1; fill:none\" points=\"\n",
       "  230.483,1313.41 255.95,1313.41 \n",
       "  \"/>\n",
       "<polyline clip-path=\"url(#clip3700)\" style=\"stroke:#000000; stroke-width:4; stroke-opacity:1; fill:none\" points=\"\n",
       "  230.483,1059.51 255.95,1059.51 \n",
       "  \"/>\n",
       "<polyline clip-path=\"url(#clip3700)\" style=\"stroke:#000000; stroke-width:4; stroke-opacity:1; fill:none\" points=\"\n",
       "  230.483,805.601 255.95,805.601 \n",
       "  \"/>\n",
       "<polyline clip-path=\"url(#clip3700)\" style=\"stroke:#000000; stroke-width:4; stroke-opacity:1; fill:none\" points=\"\n",
       "  230.483,551.694 255.95,551.694 \n",
       "  \"/>\n",
       "<polyline clip-path=\"url(#clip3700)\" style=\"stroke:#000000; stroke-width:4; stroke-opacity:1; fill:none\" points=\"\n",
       "  230.483,297.787 255.95,297.787 \n",
       "  \"/>\n",
       "<g clip-path=\"url(#clip3700)\">\n",
       "<text style=\"fill:#000000; fill-opacity:1; font-family:Arial,Helvetica Neue,Helvetica,sans-serif; font-size:48px; text-anchor:middle;\" transform=\"rotate(0, 270.324, 1479.62)\" x=\"270.324\" y=\"1479.62\">0</text>\n",
       "</g>\n",
       "<g clip-path=\"url(#clip3700)\">\n",
       "<text style=\"fill:#000000; fill-opacity:1; font-family:Arial,Helvetica Neue,Helvetica,sans-serif; font-size:48px; text-anchor:middle;\" transform=\"rotate(0, 775.916, 1479.62)\" x=\"775.916\" y=\"1479.62\">25</text>\n",
       "</g>\n",
       "<g clip-path=\"url(#clip3700)\">\n",
       "<text style=\"fill:#000000; fill-opacity:1; font-family:Arial,Helvetica Neue,Helvetica,sans-serif; font-size:48px; text-anchor:middle;\" transform=\"rotate(0, 1281.51, 1479.62)\" x=\"1281.51\" y=\"1479.62\">50</text>\n",
       "</g>\n",
       "<g clip-path=\"url(#clip3700)\">\n",
       "<text style=\"fill:#000000; fill-opacity:1; font-family:Arial,Helvetica Neue,Helvetica,sans-serif; font-size:48px; text-anchor:middle;\" transform=\"rotate(0, 1787.1, 1479.62)\" x=\"1787.1\" y=\"1479.62\">75</text>\n",
       "</g>\n",
       "<g clip-path=\"url(#clip3700)\">\n",
       "<text style=\"fill:#000000; fill-opacity:1; font-family:Arial,Helvetica Neue,Helvetica,sans-serif; font-size:48px; text-anchor:middle;\" transform=\"rotate(0, 2292.69, 1479.62)\" x=\"2292.69\" y=\"1479.62\">100</text>\n",
       "</g>\n",
       "<g clip-path=\"url(#clip3700)\">\n",
       "<text style=\"fill:#000000; fill-opacity:1; font-family:Arial,Helvetica Neue,Helvetica,sans-serif; font-size:48px; text-anchor:end;\" transform=\"rotate(0, 206.483, 1330.91)\" x=\"206.483\" y=\"1330.91\">-10</text>\n",
       "</g>\n",
       "<g clip-path=\"url(#clip3700)\">\n",
       "<text style=\"fill:#000000; fill-opacity:1; font-family:Arial,Helvetica Neue,Helvetica,sans-serif; font-size:48px; text-anchor:end;\" transform=\"rotate(0, 206.483, 1077.01)\" x=\"206.483\" y=\"1077.01\">-5</text>\n",
       "</g>\n",
       "<g clip-path=\"url(#clip3700)\">\n",
       "<text style=\"fill:#000000; fill-opacity:1; font-family:Arial,Helvetica Neue,Helvetica,sans-serif; font-size:48px; text-anchor:end;\" transform=\"rotate(0, 206.483, 823.101)\" x=\"206.483\" y=\"823.101\">0</text>\n",
       "</g>\n",
       "<g clip-path=\"url(#clip3700)\">\n",
       "<text style=\"fill:#000000; fill-opacity:1; font-family:Arial,Helvetica Neue,Helvetica,sans-serif; font-size:48px; text-anchor:end;\" transform=\"rotate(0, 206.483, 569.194)\" x=\"206.483\" y=\"569.194\">5</text>\n",
       "</g>\n",
       "<g clip-path=\"url(#clip3700)\">\n",
       "<text style=\"fill:#000000; fill-opacity:1; font-family:Arial,Helvetica Neue,Helvetica,sans-serif; font-size:48px; text-anchor:end;\" transform=\"rotate(0, 206.483, 315.287)\" x=\"206.483\" y=\"315.287\">10</text>\n",
       "</g>\n",
       "<g clip-path=\"url(#clip3700)\">\n",
       "<text style=\"fill:#000000; fill-opacity:1; font-family:Arial,Helvetica Neue,Helvetica,sans-serif; font-size:84px; text-anchor:middle;\" transform=\"rotate(0, 1291.62, 73.2)\" x=\"1291.62\" y=\"73.2\">Random walks</text>\n",
       "</g>\n",
       "<g clip-path=\"url(#clip3700)\">\n",
       "<text style=\"fill:#000000; fill-opacity:1; font-family:Arial,Helvetica Neue,Helvetica,sans-serif; font-size:66px; text-anchor:middle;\" transform=\"rotate(0, 1291.62, 1559.48)\" x=\"1291.62\" y=\"1559.48\">Iteration</text>\n",
       "</g>\n",
       "<g clip-path=\"url(#clip3700)\">\n",
       "<text style=\"fill:#000000; fill-opacity:1; font-family:Arial,Helvetica Neue,Helvetica,sans-serif; font-size:66px; text-anchor:middle;\" transform=\"rotate(-90, 89.2861, 773.647)\" x=\"89.2861\" y=\"773.647\">Value</text>\n",
       "</g>\n",
       "<polyline clip-path=\"url(#clip3702)\" style=\"stroke:#009af9; stroke-width:4; stroke-opacity:1; fill:none\" points=\"\n",
       "  290.547,805.601 310.771,740.963 330.995,680.915 351.218,715.185 371.442,656.767 391.666,593.88 411.889,623.464 432.113,641.267 452.337,580.507 472.56,619.327 \n",
       "  492.784,673.953 513.008,664.361 533.231,655.972 553.455,692.221 573.679,613.068 593.903,574.077 614.126,534.025 634.35,547.594 654.574,537.855 674.797,550.113 \n",
       "  695.021,543.451 715.245,472.099 735.468,483.388 755.692,437.713 775.916,493.74 796.139,516.712 816.363,449.075 836.587,468.856 856.81,470.93 877.034,441.436 \n",
       "  897.258,391.159 917.481,443.472 937.705,391.412 957.929,492.123 978.152,457.944 998.376,464.864 1018.6,510.388 1038.82,510.637 1059.05,507.554 1079.27,503.054 \n",
       "  1099.49,538.291 1119.72,440.861 1139.94,478.913 1160.17,442.095 1180.39,469.887 1200.61,498.209 1220.84,520.796 1241.06,548.472 1261.28,566.662 1281.51,577.91 \n",
       "  1301.73,530.976 1321.95,503.395 1342.18,536.91 1362.4,525.469 1382.63,613.288 1402.85,577.283 1423.07,618.774 1443.3,569.558 1463.52,467.269 1483.74,495.538 \n",
       "  1503.97,429.503 1524.19,464.218 1544.42,554.259 1564.64,658.756 1584.86,593.939 1605.09,691.632 1625.31,538.306 1645.53,460.357 1665.76,455.467 1685.98,502.453 \n",
       "  1706.2,491.769 1726.43,493.56 1746.65,461.571 1766.88,449.431 1787.1,486.434 1807.32,521.432 1827.55,318.022 1847.77,272.386 1867.99,266.219 1888.22,266.89 \n",
       "  1908.44,222.742 1928.67,304.927 1948.89,352.35 1969.11,287.662 1989.34,233.135 2009.56,225.444 2029.78,191.992 2050.01,158.579 2070.23,195.108 2090.45,229.227 \n",
       "  2110.68,180.394 2130.9,203.995 2151.13,311.214 2171.35,278.948 2191.57,288.087 2211.8,268.435 2232.02,225.545 2252.24,212.375 2272.47,181.76 2292.69,201.365 \n",
       "  \n",
       "  \"/>\n",
       "<polyline clip-path=\"url(#clip3702)\" style=\"stroke:#e26f46; stroke-width:4; stroke-opacity:1; fill:none\" points=\"\n",
       "  290.547,805.601 310.771,747.541 330.995,732.281 351.218,688.344 371.442,728.874 391.666,782.077 411.889,794.841 432.113,822.32 452.337,865.808 472.56,790.442 \n",
       "  492.784,885.538 513.008,917.535 533.231,921.483 553.455,911.126 573.679,972.191 593.903,938.63 614.126,890.428 634.35,826.972 654.574,876.49 674.797,865.933 \n",
       "  695.021,841.159 715.245,956.692 735.468,924.853 755.692,994.5 775.916,968.877 796.139,992.262 816.363,1026.7 836.587,946.841 856.81,982.119 877.034,982.907 \n",
       "  897.258,943.001 917.481,1002.06 937.705,972.387 957.929,1025.06 978.152,1000.76 998.376,941.763 1018.6,973.233 1038.82,1028.44 1059.05,1022.91 1079.27,1093.81 \n",
       "  1099.49,1114.43 1119.72,1200.52 1139.94,1190.87 1160.17,1223.23 1180.39,1264.96 1200.61,1218.06 1220.84,1240.97 1241.06,1127.52 1261.28,1055.88 1281.51,1063.98 \n",
       "  1301.73,1169.59 1321.95,1126.82 1342.18,1126.62 1362.4,1134.77 1382.63,1062.25 1402.85,1101.18 1423.07,1106.92 1443.3,1177.73 1463.52,1092.81 1483.74,1140.9 \n",
       "  1503.97,1178.02 1524.19,1140.16 1544.42,1117.3 1564.64,1202.56 1584.86,1207.43 1605.09,1250.92 1625.31,1239.77 1645.53,1260.86 1665.76,1302.13 1685.98,1363.61 \n",
       "  1706.2,1388.71 1726.43,1296.32 1746.65,1226.24 1766.88,1255.44 1787.1,1341.23 1807.32,1320.19 1827.55,1190.24 1847.77,1198.22 1867.99,1140.06 1888.22,1132.97 \n",
       "  1908.44,1146.85 1928.67,1192.41 1948.89,1186.74 1969.11,1199.04 1989.34,1229.06 2009.56,1264.29 2029.78,1294.72 2050.01,1283.52 2070.23,1236.53 2090.45,1233.59 \n",
       "  2110.68,1175.72 2130.9,1171.11 2151.13,1258.78 2171.35,1224.12 2191.57,1278.23 2211.8,1325.87 2232.02,1340.83 2252.24,1382.4 2272.47,1335.03 2292.69,1315.47 \n",
       "  \n",
       "  \"/>\n",
       "<polyline clip-path=\"url(#clip3702)\" style=\"stroke:#3da44d; stroke-width:4; stroke-opacity:1; fill:none\" points=\"\n",
       "  290.547,805.601 310.771,812.709 330.995,760.795 351.218,750.365 371.442,686.53 391.666,673.281 411.889,666.672 432.113,648.967 452.337,673.775 472.56,596.15 \n",
       "  492.784,603.073 513.008,601.078 533.231,610.82 553.455,510.047 573.679,596.585 593.903,556.322 614.126,579.747 634.35,587.382 654.574,642.858 674.797,673.048 \n",
       "  695.021,639.514 715.245,631.749 735.468,685.549 755.692,680.211 775.916,637.402 796.139,635.62 816.363,554.225 836.587,494.971 856.81,436.82 877.034,459.739 \n",
       "  897.258,429.011 917.481,380.376 937.705,412.593 957.929,368.707 978.152,366.411 998.376,381.191 1018.6,480.008 1038.82,522.608 1059.05,534.102 1079.27,629.415 \n",
       "  1099.49,529.277 1119.72,553.484 1139.94,513.643 1160.17,584.568 1180.39,667.583 1200.61,733.848 1220.84,791.54 1241.06,837.622 1261.28,745.421 1281.51,703.221 \n",
       "  1301.73,749.737 1321.95,700.111 1342.18,734.691 1362.4,728.689 1382.63,809.477 1402.85,759.178 1423.07,787.87 1443.3,794.779 1463.52,807.858 1483.74,809.252 \n",
       "  1503.97,821.734 1524.19,795.595 1544.42,827.1 1564.64,867.026 1584.86,928.274 1605.09,930.915 1625.31,801.623 1645.53,723.901 1665.76,709.367 1685.98,750.162 \n",
       "  1706.2,735.877 1726.43,826.99 1746.65,828.254 1766.88,781.89 1787.1,791.576 1807.32,792.678 1827.55,769.98 1847.77,796.86 1867.99,759.517 1888.22,748.294 \n",
       "  1908.44,766.781 1928.67,828.22 1948.89,831.051 1969.11,866.012 1989.34,920.728 2009.56,963.298 2029.78,939.549 2050.01,954.434 2070.23,955.088 2090.45,903.377 \n",
       "  2110.68,815.573 2130.9,865.747 2151.13,899.265 2171.35,936.746 2191.57,913.837 2211.8,968.773 2232.02,998.793 2252.24,981.669 2272.47,979.358 2292.69,1003.29 \n",
       "  \n",
       "  \"/>\n",
       "<path clip-path=\"url(#clip3700)\" d=\"\n",
       "M1762.54 447.115 L2280.76 447.115 L2280.76 205.195 L1762.54 205.195  Z\n",
       "  \" fill=\"#ffffff\" fill-rule=\"evenodd\" fill-opacity=\"1\"/>\n",
       "<polyline clip-path=\"url(#clip3700)\" style=\"stroke:#000000; stroke-width:4; stroke-opacity:1; fill:none\" points=\"\n",
       "  1762.54,447.115 2280.76,447.115 2280.76,205.195 1762.54,205.195 1762.54,447.115 \n",
       "  \"/>\n",
       "<polyline clip-path=\"url(#clip3700)\" style=\"stroke:#009af9; stroke-width:4; stroke-opacity:1; fill:none\" points=\"\n",
       "  1786.54,265.675 1930.54,265.675 \n",
       "  \"/>\n",
       "<g clip-path=\"url(#clip3700)\">\n",
       "<text style=\"fill:#000000; fill-opacity:1; font-family:Arial,Helvetica Neue,Helvetica,sans-serif; font-size:48px; text-anchor:start;\" transform=\"rotate(0, 1954.54, 283.175)\" x=\"1954.54\" y=\"283.175\">Realization 1</text>\n",
       "</g>\n",
       "<polyline clip-path=\"url(#clip3700)\" style=\"stroke:#e26f46; stroke-width:4; stroke-opacity:1; fill:none\" points=\"\n",
       "  1786.54,326.155 1930.54,326.155 \n",
       "  \"/>\n",
       "<g clip-path=\"url(#clip3700)\">\n",
       "<text style=\"fill:#000000; fill-opacity:1; font-family:Arial,Helvetica Neue,Helvetica,sans-serif; font-size:48px; text-anchor:start;\" transform=\"rotate(0, 1954.54, 343.655)\" x=\"1954.54\" y=\"343.655\">Realization 2</text>\n",
       "</g>\n",
       "<polyline clip-path=\"url(#clip3700)\" style=\"stroke:#3da44d; stroke-width:4; stroke-opacity:1; fill:none\" points=\"\n",
       "  1786.54,386.635 1930.54,386.635 \n",
       "  \"/>\n",
       "<g clip-path=\"url(#clip3700)\">\n",
       "<text style=\"fill:#000000; fill-opacity:1; font-family:Arial,Helvetica Neue,Helvetica,sans-serif; font-size:48px; text-anchor:start;\" transform=\"rotate(0, 1954.54, 404.135)\" x=\"1954.54\" y=\"404.135\">Realization 3</text>\n",
       "</g>\n",
       "</svg>\n"
      ]
     },
     "execution_count": 15,
     "metadata": {},
     "output_type": "execute_result"
    }
   ],
   "source": [
    "# Initialize an array of zeros and fill it using a for loop\n",
    "N = 100 # length of one random walk\n",
    "M = 3 # number of walks\n",
    "x = zeros((N, M))\n",
    "for i in 1:N-1\n",
    "    r = randn(3) \n",
    "    x[i+1, :] = x[i, :] + r \n",
    "end\n",
    "# Plotting using Plots\n",
    "plot(x, xlabel=\"Iteration\", ylabel = \"Value\", title = \"Random walks\", labels = [\"Realization 1\" \"Realization 2\" \"Realization 3\"])"
   ]
  }
 ],
 "metadata": {
  "kernelspec": {
   "display_name": "Julia 1.6.0",
   "language": "julia",
   "name": "julia-1.6"
  },
  "language_info": {
   "file_extension": ".jl",
   "mimetype": "application/julia",
   "name": "julia",
   "version": "1.6.0"
  }
 },
 "nbformat": 4,
 "nbformat_minor": 4
}
